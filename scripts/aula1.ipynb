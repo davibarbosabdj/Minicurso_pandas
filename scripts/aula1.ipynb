{
 "cells": [
  {
   "cell_type": "markdown",
   "id": "963dd615-35cf-4c27-8ed6-4ff49e8dc8ef",
   "metadata": {},
   "source": [
    "<img src='https://github.com/davibarbosabdj/Minicurso_pandas/blob/main/imagens/logo_pandas.png?raw=true' width='115px' style='float: right'>\n",
    "\n",
    "# <center><strong>Introdução a Biblioteca Pandas</strong></center>\n",
    "### <center>Projeto Engedados - UFC Campus Jardins de Anita Itapajé</center>\n",
    "---"
   ]
  },
  {
   "cell_type": "markdown",
   "id": "5d99a7a3-5a0c-4583-9e2d-0bfa6f520423",
   "metadata": {},
   "source": [
    "#### **O que é o Pandas?**\n",
    "\n",
    "O pandas é uma biblioteca de código aberto para a linguagem de programação Python que é usada principalmente para análise e manipulação de dados. Ela fornece estruturas de dados e ferramentas de análise de alta performance e fáceis de usar, permitindo que os usuários manipulem dados tabulares com facilidade. O pandas é amplamente utilizado em ciência de dados, finanças, análise de negócios e outras áreas onde a análise de dados é fundamental.\n",
    "<br>\n",
    "#### **Por que o Pandas é importante para Análise de Dados?**\n",
    "\n",
    "O pandas é importante para análise de dados porque oferece uma ampla gama de ferramentas e funcionalidades para manipulação e análise de dados de forma eficiente e eficaz. Com o pandas, os usuários podem importar e exportar dados de várias fontes, limpar e preparar dados para análise, manipular e transformar dados para uso em modelos de análise e visualizações de dados, e realizar análises estatísticas e de séries temporais.\n",
    "\n",
    "Além disso, o pandas oferece suporte para lidar com dados faltantes, integrar dados de várias fontes e visualizar os resultados da análise em gráficos e tabelas interativas. Como resultado, os usuários podem analisar grandes conjuntos de dados com mais rapidez e facilidade, permitindo que tomem decisões informadas com base em insights valiosos extraídos dos dados.\n",
    "\n",
    "Em resumo, o pandas é importante para análise de dados porque permite que os usuários trabalhem com dados de forma mais eficiente e eficaz, economizando tempo e aumentando a precisão dos resultados."
   ]
  },
  {
   "cell_type": "markdown",
   "id": "c986b72d-9916-4a16-b2ba-7bce3d3f988a",
   "metadata": {},
   "source": [
    "#### **Instalando e Importando o Pandas**\n",
    "\n",
    "Para instalar o pandas, você pode usar o pip, o gerenciador de pacotes padrão do Python. Basta abrir o terminal ou prompt de comandos e digitar o seguinte comando: \n",
    "\n",
    "~~~python\n",
    "pip install pandas\n",
    "~~~"
   ]
  },
  {
   "cell_type": "markdown",
   "id": "745ee8bf-eb6d-4d00-bd1a-0c5260b9c6f5",
   "metadata": {},
   "source": [
    "Após a instalação, você pode importar o pandas em seus scripts Python utilizando seguinte comando: "
   ]
  },
  {
   "cell_type": "code",
   "execution_count": 2,
   "id": "e2461881-e642-4e77-813f-6ce7da13a989",
   "metadata": {},
   "outputs": [],
   "source": [
    "import pandas as pd"
   ]
  },
  {
   "cell_type": "markdown",
   "id": "7e4231f4-f3ab-456e-8661-a2bc5b664ef3",
   "metadata": {},
   "source": [
    "#### Criação de DataFrames\n",
    "\n",
    "DataFrame (DF) é uma das estruturas de dados centrais do pandas, que é uma biblioteca Python amplamente usada para análise de dados. Um DataFrame é uma tabela bidimensional, semelhante a uma planilha, onde os dados são organizados em linhas e colunas."
   ]
  },
  {
   "cell_type": "markdown",
   "id": "95e3a562-1969-46ae-b125-0da828f4c038",
   "metadata": {},
   "source": [
    "- A partir de um Dicionário:\n",
    "\n",
    "Você pode criar um DataFrame a partir de um dicionário onde as chaves representam os nomes das colunas e os valores são listas que preenchem as colunas."
   ]
  },
  {
   "cell_type": "code",
   "execution_count": null,
   "id": "0a9d372c-3895-4594-afb4-2cb6b5218882",
   "metadata": {},
   "outputs": [],
   "source": [
    "# Criando um df"
   ]
  },
  {
   "cell_type": "code",
   "execution_count": 3,
   "id": "b919965a-15fc-47f0-984a-9e68d651c396",
   "metadata": {},
   "outputs": [],
   "source": [
    "# Criando um df a partir de uma lista de dicionarios \n"
   ]
  },
  {
   "cell_type": "markdown",
   "id": "1794d9e1-dd14-49fd-b0b7-e6bc19410373",
   "metadata": {
    "tags": []
   },
   "source": [
    "### **1. Manipulação de Dados Básica**\n",
    "\n",
    "**Dataset: Customer Call List**\n",
    "\n",
    "A base de dados Customer Call List é uma valiosa fonte de informações sobre os clientes da empresa. Contendo colunas essenciais, como o ID do cliente, telefone, nome, endereço e outros campos relevantes, essa base de dados permite à empresa manter contato com seus clientes e fornecer um atendimento personalizado."
   ]
  },
  {
   "cell_type": "markdown",
   "id": "324cf401-7f5f-47fc-b591-95783e42ff6b",
   "metadata": {
    "tags": []
   },
   "source": [
    "#### 1.1 Lendo a nossa base de dados\n",
    "\n",
    "Existem várias maneiras de importar um dataset no Python usando o Pandas, que é uma biblioteca popular para análise de dados."
   ]
  },
  {
   "cell_type": "code",
   "execution_count": 4,
   "id": "f96a6db4-a1ce-4185-b506-2da9b459b7d8",
   "metadata": {},
   "outputs": [],
   "source": [
    "#Leitura dos dados no formato csv\n"
   ]
  },
  {
   "cell_type": "code",
   "execution_count": 5,
   "id": "3d2f7fc0",
   "metadata": {},
   "outputs": [],
   "source": [
    "#Leitura dos dados no formato excel\n"
   ]
  },
  {
   "cell_type": "code",
   "execution_count": 6,
   "id": "e03b9be2",
   "metadata": {},
   "outputs": [],
   "source": [
    "#Leitura dos dados no formato json\n"
   ]
  },
  {
   "cell_type": "markdown",
   "id": "2e4f481a-6bc4-421f-b750-8c8865e9f26c",
   "metadata": {
    "tags": []
   },
   "source": [
    "#### 1.2 Visualizando a nossa base de dados"
   ]
  },
  {
   "cell_type": "code",
   "execution_count": 7,
   "id": "cf5a5c34-bdbe-4c54-9755-bb5fc9bfcee3",
   "metadata": {},
   "outputs": [],
   "source": [
    "#Visualizando as primeiras linhas do nosso dataframe - .head()\n"
   ]
  },
  {
   "cell_type": "code",
   "execution_count": 8,
   "id": "e509cc42-1b99-464e-b078-e672f887bfb2",
   "metadata": {},
   "outputs": [],
   "source": [
    "#Visualizando as ultimas linhas do nosso dataframe - .tail()\n"
   ]
  },
  {
   "cell_type": "code",
   "execution_count": 9,
   "id": "383c15d3-b7d2-4c85-9ad5-6811cf9e3c4d",
   "metadata": {},
   "outputs": [],
   "source": [
    "#Visualizando as informações gerais do nosso data frame - .info()\n"
   ]
  },
  {
   "cell_type": "code",
   "execution_count": 10,
   "id": "3586fba8-b845-4ca5-825b-ee9b707b2a43",
   "metadata": {},
   "outputs": [],
   "source": [
    "#Retornando o nome das colunas do dataframe .columns\n"
   ]
  },
  {
   "cell_type": "markdown",
   "id": "f996a567-a270-409a-af63-b8c604d2aa50",
   "metadata": {
    "tags": []
   },
   "source": [
    "#### 1.3 Manipulação das Colunas do Dataframe \n",
    "\n",
    "Podemos realizar diversas manipulações nas colunas de um dataframe utilizando as funcionalidades do Pandas."
   ]
  },
  {
   "cell_type": "code",
   "execution_count": 11,
   "id": "93915b11-1fef-4c04-afd1-2d4bc97c4f8d",
   "metadata": {},
   "outputs": [],
   "source": [
    "#Renomear colunas - .rename()\n"
   ]
  },
  {
   "cell_type": "code",
   "execution_count": 12,
   "id": "9b59f888-0ba9-43ba-8771-6b020ce4767d",
   "metadata": {},
   "outputs": [],
   "source": [
    "#Mudando a ordem das colunas - \n"
   ]
  },
  {
   "cell_type": "markdown",
   "id": "1a3a570a-53c9-4f7b-b338-1f9aa3d39164",
   "metadata": {},
   "source": [
    "Para criar uma nova coluna em um data frame, basta atribuirmos uma lista/series de valores a uma constante a uma nova chave do df.\n",
    "\n",
    "*Obs: A quantidade de valores da lista deve ser igual ao número de linhas/registros do df.*"
   ]
  },
  {
   "cell_type": "code",
   "execution_count": 13,
   "id": "832e1fa4-d8fa-4312-a95a-c2d2be49b1ce",
   "metadata": {},
   "outputs": [],
   "source": [
    "#Criar novas colunas \n"
   ]
  },
  {
   "cell_type": "code",
   "execution_count": 14,
   "id": "b32edfa7-1848-42f7-a0c2-0ec08a424a89",
   "metadata": {},
   "outputs": [],
   "source": [
    "#Deletar colunas - .drop() e del df[column]\n"
   ]
  },
  {
   "cell_type": "markdown",
   "id": "f1071219-cfd7-42b0-94b9-cbb155a346d5",
   "metadata": {
    "tags": []
   },
   "source": [
    "#### **1.4 Series**\n",
    "\n",
    "Uma Series é uma estrutura de dados unidimensional que contém um array de dados e um array correspondente de rótulos, chamado de índice. É uma estrutura de dados flexível e útil para várias operações de manipulação de dados e análise de dados, especialmente quando se trabalha com dados em colunas de um DataFrame.\n",
    "\n",
    "**Importância das Séries:**\n",
    "\n",
    "As séries são importantes porque permitem que você trabalhe facilmente com dados em uma forma mais simples e organizada. Elas fornecem várias funcionalidades úteis, como cálculos estatísticos, manipulação de dados e criação de gráficos.\n",
    "\n",
    "Além disso, as séries são frequentemente usadas como componentes de DataFrames, que são a estrutura de dados mais amplamente usada no pandas. DataFrames são tabelas que consistem em séries, onde cada série é uma coluna. Ao entender como trabalhar com séries, você estará bem preparado para manipular e analisar dados em geral usando o pandas.\n",
    "\n",
    "\n",
    "\n",
    "\n"
   ]
  },
  {
   "cell_type": "code",
   "execution_count": 15,
   "id": "5be1a9cf-7efd-465b-8be2-3e52a03dd448",
   "metadata": {},
   "outputs": [],
   "source": [
    "#Selecionando uma coluna inteira \n"
   ]
  },
  {
   "cell_type": "markdown",
   "id": "f4f3f6b0-29ac-4dd1-b065-60f37cff9855",
   "metadata": {
    "tags": []
   },
   "source": [
    "### **2. Manipulação de Dados**\n",
    "\n",
    "A manipulação de dados em um DataFrame no pandas envolve várias etapas, desde selecionar dados específicos até realizar operações, limpeza e verificação. \n",
    "\n",
    "O pandas oferece uma variedade de métodos e ferramentas para tornar esse processo eficiente e eficaz, permitindo que você trabalhe com conjuntos de dados de forma flexível e poderosa.\n",
    "\n",
    "- **Seleção de Dados:** Você pode selecionar linhas e colunas específicas do DataFrame usando índices ou rótulos.\n",
    "\n",
    "- **Operações com Colunas e Linhas:** Você pode realizar operações aritméticas e de transformação em colunas e linhas.\n",
    "\n",
    "- **Tratamento de Valores Faltantes:** Lidar com valores nulos (NaN) em seus dados usando métodos como ``dropna()`` e ``fillna()``.\n",
    "\n",
    "- **Verificação de Dados Faltantes e Inconsistentes:** Identificar e lidar com dados faltantes ou inconsistentes em seu DataFrame.\n",
    "\n",
    "- **Filtragem de Dados:** Filtrar linhas do DataFrame com base em condições específicas.\n",
    "\n",
    "- **Ordenação de Dados:** Ordenar os dados com base em valores de coluna.\n",
    "\n",
    "- **Transformação de Dados:** Aplicar funções, mapeamentos e transformações aos dados."
   ]
  },
  {
   "cell_type": "markdown",
   "id": "f5767bed-ae58-4f62-9a72-452be22b2e4e",
   "metadata": {
    "tags": []
   },
   "source": [
    "#### 2.1 Selecionando os dados \n",
    "Existem várias maneiras de selecionar dados usando o pandas. Indexação, Condição, Colunas... "
   ]
  },
  {
   "cell_type": "markdown",
   "id": "19696c4f-f771-40e3-aecf-c5ca839259ac",
   "metadata": {
    "tags": []
   },
   "source": [
    "#### Seleção de dados - .loc[]\n",
    "\n",
    "O ```.loc[]``` é um método usado para acessar um grupo de linhas e colunas por meio de rótulos ou uma condição booleana. Ele funciona da seguinte forma:\n",
    "\n",
    "- **Usando rótulos:** Você especifica os rótulos das linhas e colunas que deseja selecionar. Por exemplo, ```df.loc[2, 'idade']``` selecionará o valor da coluna 'idade' na linha com rótulo 2.\n",
    "\n",
    "- **Usando rótulos e fatias:** Você também pode usar fatias para selecionar um intervalo de rótulos, como ```df.loc[1:3, 'idade':'nome']```.\n",
    "\n",
    "- **Usando uma condição booleana:** Você pode usar uma condição booleana para selecionar linhas com base em uma expressão, como ```df.loc[df['idade'] > 25]```."
   ]
  },
  {
   "cell_type": "code",
   "execution_count": 16,
   "id": "bdb166a4-f1f1-4995-a660-7080bb6f20ad",
   "metadata": {},
   "outputs": [],
   "source": [
    "#Seleção -.loc[]\n"
   ]
  },
  {
   "cell_type": "markdown",
   "id": "a4b81550-8290-4e41-813c-7d6f75de2202",
   "metadata": {
    "tags": []
   },
   "source": [
    "#### Seleção por indexação - .iloc[]\n",
    "\n",
    "O ```iloc``` é um método usado para acessar um grupo de linhas e colunas por meio de índices inteiros. Ele funciona da seguinte forma:\n",
    "\n",
    "- **Usando índices inteiros:** Você especifica os índices das linhas e colunas que deseja selecionar. Por exemplo, ```df.iloc[0, 2]``` selecionará o valor na primeira linha e terceira coluna.\n",
    "\n",
    "- **Usando índices inteiros e fatias:** Assim como o loc, você também pode usar fatias para selecionar um intervalo de índices, como ```df.iloc[1:3, 0:2]```.\n",
    "\n",
    "- **Usando índices inteiros com condição booleana:** Você pode combinar o iloc com uma condição booleana para selecionar linhas com base em uma expressão, como ```df.iloc[df['idade'] > 25]```."
   ]
  },
  {
   "cell_type": "code",
   "execution_count": 17,
   "id": "862913be-c423-471a-8ba5-00273b971dbd",
   "metadata": {},
   "outputs": [],
   "source": [
    "#Seleção-.iloc[]\n"
   ]
  },
  {
   "cell_type": "markdown",
   "id": "8f4d8f31-dcb3-4a85-baaf-ffad5255c4eb",
   "metadata": {
    "tags": []
   },
   "source": [
    "#### 2.2 Operações com colunas e linhas \n",
    "\n",
    "As operações com colunas em um DataFrame são uma parte essencial da manipulação de dados. Você pode realizar uma variedade de operações para transformar, calcular e manipular os valores de uma coluna."
   ]
  },
  {
   "cell_type": "code",
   "execution_count": 18,
   "id": "00a333bc-9d61-4f48-9db2-6c48ae2528e2",
   "metadata": {},
   "outputs": [],
   "source": [
    "# Aritmética entre Colunas:\n"
   ]
  },
  {
   "cell_type": "code",
   "execution_count": 19,
   "id": "d1811928-e569-4cd1-96ef-c8476d278539",
   "metadata": {},
   "outputs": [],
   "source": [
    "# Aplicação de Funções:\n"
   ]
  },
  {
   "cell_type": "markdown",
   "id": "47876bce-7b07-4a70-a515-9a7e293f213f",
   "metadata": {},
   "source": [
    "#### 2.3 Tratamento de valores faltantes ou inconsistências\n",
    "\n",
    "O tratamento de valores faltantes e inconsistências é uma etapa crucial na manipulação de dados, pois dados ausentes ou inconsistentes podem afetar a qualidade das análises e modelos que você constrói."
   ]
  },
  {
   "cell_type": "code",
   "execution_count": 20,
   "id": "b725a32b-d101-488d-b43a-33bcb2127331",
   "metadata": {},
   "outputs": [],
   "source": [
    "# Verificação de valores faltantes  \n"
   ]
  },
  {
   "cell_type": "code",
   "execution_count": 21,
   "id": "045863ad-f8d3-4e28-8412-3806bd532a14",
   "metadata": {
    "tags": []
   },
   "outputs": [],
   "source": [
    "import numpy as np"
   ]
  },
  {
   "cell_type": "code",
   "execution_count": null,
   "id": "e798c329-2e1a-4e69-94ca-279c6443cb2f",
   "metadata": {},
   "outputs": [],
   "source": []
  },
  {
   "cell_type": "code",
   "execution_count": 22,
   "id": "1a4fefaa-1031-487d-9b5c-f5b53f48c633",
   "metadata": {
    "tags": []
   },
   "outputs": [],
   "source": [
    "# Preenchelos com outros valores \n"
   ]
  },
  {
   "cell_type": "code",
   "execution_count": null,
   "id": "a252174b-01d3-49f6-80a4-c17189f60e4b",
   "metadata": {
    "tags": []
   },
   "outputs": [],
   "source": []
  },
  {
   "cell_type": "code",
   "execution_count": null,
   "id": "00ac6d8e-93a6-40de-8486-b3e882686538",
   "metadata": {
    "tags": []
   },
   "outputs": [],
   "source": []
  },
  {
   "cell_type": "markdown",
   "id": "7f58a130-7c1b-45af-ab8c-2b89d358e34f",
   "metadata": {
    "tags": []
   },
   "source": [
    "#### 2.4 Filtragem de dados\n",
    "\n",
    "A filtragem de dados é uma técnica fundamental para selecionar um subconjunto específico de dados em um DataFrame com base em determinados critérios ou condições. Ela ajuda a trabalhar de forma mais eficiente com grandes conjuntos de dados, focando apenas nos dados relevantes para uma análise ou tarefa específica."
   ]
  },
  {
   "cell_type": "code",
   "execution_count": 23,
   "id": "13f4b3d6-6432-47dd-b34e-9b62f427374e",
   "metadata": {},
   "outputs": [],
   "source": [
    "# Filtrar os dados de acordo com a coluna sobrenome == \"Skywalker\"\n"
   ]
  },
  {
   "cell_type": "code",
   "execution_count": 24,
   "id": "4fc2e87d-6e9e-46b9-8115-a84fb4c7c6f3",
   "metadata": {},
   "outputs": [],
   "source": [
    "# Filtrar os dados dos clientes que não podem ser contactados\n"
   ]
  },
  {
   "cell_type": "code",
   "execution_count": 25,
   "id": "a4e9b563-044c-4194-9dc2-7a83b995bc93",
   "metadata": {},
   "outputs": [],
   "source": [
    "# Filtrando os clientes que podem ser contactados \n"
   ]
  },
  {
   "cell_type": "code",
   "execution_count": 26,
   "id": "601cca84-0cda-4d62-81de-73e995e22c4f",
   "metadata": {
    "tags": []
   },
   "outputs": [],
   "source": [
    "# Filtragens condicionais\n"
   ]
  },
  {
   "cell_type": "markdown",
   "id": "83b8eeaa-1a8f-42be-84b7-37db502a4e2f",
   "metadata": {
    "tags": []
   },
   "source": [
    "#### 2.5 Ordenação de dados \n",
    "\n",
    "O método ```sort_values()``` é uma ferramenta valiosa do pandas que permite reorganizar um DataFrame de acordo com os valores em uma ou mais colunas. Isso é particularmente útil para visualizar dados de forma ordenada e para realizar análises mais eficientes."
   ]
  },
  {
   "cell_type": "code",
   "execution_count": 27,
   "id": "fb40a020-fcc7-44b0-a058-91f56c55849f",
   "metadata": {},
   "outputs": [],
   "source": [
    "# Ordenando de acordo com a coluna \n"
   ]
  },
  {
   "cell_type": "code",
   "execution_count": 28,
   "id": "811e8394-48d3-44ea-8c68-eab659e0108a",
   "metadata": {},
   "outputs": [],
   "source": [
    "# Ordenando a partir da coluna Primeiro Nome\n"
   ]
  },
  {
   "cell_type": "markdown",
   "id": "1bf43816-6f3b-48a8-a975-b933287ae38e",
   "metadata": {},
   "source": [
    "#### 2.6 Conversão de Dados \n",
    "\n",
    "A conversão de dados no contexto da análise de dados com o pandas é essencial para garantir que os conjuntos de dados estejam prontos para análise precisa e eficiente. Por meio de métodos como pd.to_datetime(), .astype() e outros, é possível transformar colunas em diferentes tipos de dados, como datas, números inteiros, categorias e strings. Essa flexibilidade permite ajustar os dados às necessidades específicas da análise, melhorando a precisão dos cálculos e a eficácia das operações."
   ]
  },
  {
   "cell_type": "code",
   "execution_count": 29,
   "id": "db2777ff-d7bf-458d-93fc-406a2a59f489",
   "metadata": {},
   "outputs": [],
   "source": [
    "# Criando um DataFrame de exemplo\n"
   ]
  },
  {
   "cell_type": "code",
   "execution_count": 30,
   "id": "035a8e2d-9765-4e13-aae6-29ea0fc287bf",
   "metadata": {},
   "outputs": [],
   "source": [
    "# Convertendo coluna para tipo de dados datetime\n"
   ]
  },
  {
   "cell_type": "code",
   "execution_count": 31,
   "id": "1afc170a-a074-4e21-85c7-2952b218299e",
   "metadata": {},
   "outputs": [],
   "source": [
    "# Convertendo coluna para tipo de dados numéricos (int)\n"
   ]
  },
  {
   "cell_type": "code",
   "execution_count": 32,
   "id": "200f94e6-1e4a-4576-b934-e3ba8bb618f8",
   "metadata": {},
   "outputs": [],
   "source": [
    "# Convertendo coluna para tipo de dados categóricos\n"
   ]
  },
  {
   "cell_type": "code",
   "execution_count": 33,
   "id": "c448ce2f-83c6-4491-95f1-e8f4d0a52d8d",
   "metadata": {},
   "outputs": [],
   "source": [
    "# Convertendo coluna para tipo de dados string\n"
   ]
  },
  {
   "cell_type": "code",
   "execution_count": 34,
   "id": "6baa0aa5-c41b-4d57-99ed-e680126a8969",
   "metadata": {
    "tags": []
   },
   "outputs": [],
   "source": [
    "# Exibindo o DataFrame resultante\n"
   ]
  },
  {
   "cell_type": "code",
   "execution_count": null,
   "id": "039510fe-a1b7-4705-95b0-3a41fa0bce7f",
   "metadata": {},
   "outputs": [],
   "source": []
  }
 ],
 "metadata": {
  "kernelspec": {
   "display_name": "Python 3 (ipykernel)",
   "language": "python",
   "name": "python3"
  },
  "language_info": {
   "codemirror_mode": {
    "name": "ipython",
    "version": 3
   },
   "file_extension": ".py",
   "mimetype": "text/x-python",
   "name": "python",
   "nbconvert_exporter": "python",
   "pygments_lexer": "ipython3",
   "version": "3.10.9"
  }
 },
 "nbformat": 4,
 "nbformat_minor": 5
}
