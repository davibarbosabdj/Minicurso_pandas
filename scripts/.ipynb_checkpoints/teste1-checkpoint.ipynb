{
 "cells": [
  {
   "cell_type": "code",
   "execution_count": 1,
   "id": "57341af1-fafe-471a-8b6c-ade9202b608a",
   "metadata": {
    "tags": []
   },
   "outputs": [],
   "source": [
    "import pandas as pd "
   ]
  },
  {
   "cell_type": "code",
   "execution_count": 2,
   "id": "276e01a0-5479-4519-bb58-571f3efbf082",
   "metadata": {
    "tags": []
   },
   "outputs": [
    {
     "data": {
      "text/html": [
       "<div>\n",
       "<style scoped>\n",
       "    .dataframe tbody tr th:only-of-type {\n",
       "        vertical-align: middle;\n",
       "    }\n",
       "\n",
       "    .dataframe tbody tr th {\n",
       "        vertical-align: top;\n",
       "    }\n",
       "\n",
       "    .dataframe thead th {\n",
       "        text-align: right;\n",
       "    }\n",
       "</style>\n",
       "<table border=\"1\" class=\"dataframe\">\n",
       "  <thead>\n",
       "    <tr style=\"text-align: right;\">\n",
       "      <th></th>\n",
       "      <th>CustomerID</th>\n",
       "      <th>First_Name</th>\n",
       "      <th>Last_Name</th>\n",
       "      <th>Phone_Number</th>\n",
       "      <th>Address</th>\n",
       "      <th>Paying Customer</th>\n",
       "      <th>Do_Not_Contact</th>\n",
       "      <th>Not_Useful_Column</th>\n",
       "    </tr>\n",
       "  </thead>\n",
       "  <tbody>\n",
       "    <tr>\n",
       "      <th>0</th>\n",
       "      <td>1001</td>\n",
       "      <td>Frodo</td>\n",
       "      <td>Baggins</td>\n",
       "      <td>123-545-5421</td>\n",
       "      <td>123 Shire Lane, Shire</td>\n",
       "      <td>Yes</td>\n",
       "      <td>No</td>\n",
       "      <td>True</td>\n",
       "    </tr>\n",
       "  </tbody>\n",
       "</table>\n",
       "</div>"
      ],
      "text/plain": [
       "   CustomerID First_Name Last_Name  Phone_Number                Address  \\\n",
       "0        1001      Frodo   Baggins  123-545-5421  123 Shire Lane, Shire   \n",
       "\n",
       "  Paying Customer Do_Not_Contact  Not_Useful_Column  \n",
       "0             Yes             No               True  "
      ]
     },
     "execution_count": 2,
     "metadata": {},
     "output_type": "execute_result"
    }
   ],
   "source": [
    "df_excel = pd.read_excel(r\"C:\\Users\\joaod\\OneDrive\\Documentos\\Projetos\\Minicurso_pandas\\data\\Customer_Call_List.xlsx\")\n",
    "df_excel.head(1)"
   ]
  },
  {
   "cell_type": "code",
   "execution_count": 4,
   "id": "ed93359f-ab88-4eaf-8dfa-e2c437030adf",
   "metadata": {},
   "outputs": [],
   "source": [
    "# Tranformando o excel para csv \n",
    "df_csv = \"df_csv\" \n",
    "df_excel.to_csv(df_csv, index=False)"
   ]
  },
  {
   "cell_type": "code",
   "execution_count": 5,
   "id": "10020156-e6cf-4e13-acb5-a985753082f9",
   "metadata": {},
   "outputs": [],
   "source": [
    "# Transformando para json\n",
    "\n",
    "df_json = \"df_json\"\n",
    "df_excel.to_json(df_json, orient='records')"
   ]
  },
  {
   "cell_type": "code",
   "execution_count": null,
   "id": "64910088-5f52-4803-b200-c8da62cd75e5",
   "metadata": {},
   "outputs": [],
   "source": [
    "# leitura de arquivos \n",
    "\n",
    "df_csv = pd.read_csv()"
   ]
  }
 ],
 "metadata": {
  "kernelspec": {
   "display_name": "Python 3 (ipykernel)",
   "language": "python",
   "name": "python3"
  },
  "language_info": {
   "codemirror_mode": {
    "name": "ipython",
    "version": 3
   },
   "file_extension": ".py",
   "mimetype": "text/x-python",
   "name": "python",
   "nbconvert_exporter": "python",
   "pygments_lexer": "ipython3",
   "version": "3.10.9"
  }
 },
 "nbformat": 4,
 "nbformat_minor": 5
}
