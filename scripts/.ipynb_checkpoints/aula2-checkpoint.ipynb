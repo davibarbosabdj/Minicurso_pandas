{
 "cells": [
  {
   "cell_type": "markdown",
   "id": "e080744a-a4b3-4c48-8e0a-82c022cddcc0",
   "metadata": {},
   "source": [
    "<img src='https://github.com/davibarbosabdj/Minicurso_pandas/blob/main/imagens/logo_pandas.png?raw=true' width='115px' style='float: right'>\n",
    "\n",
    "# <center><strong>AED - Análise Exploratória de Dados</strong></center>\n",
    "### <center><strong>Projeto Engedados - UFC Campus Jardins de Anita Itapajé</strong></center>\n",
    "---"
   ]
  },
  {
   "cell_type": "markdown",
   "id": "556dc00f-b46d-4eaa-ab21-4f6dbc1af25a",
   "metadata": {},
   "source": [
    "### **3. Análise Exploratória de Dados** \n"
   ]
  },
  {
   "cell_type": "markdown",
   "id": "105ee376-be7e-4713-9b5f-e6e7b93a58a1",
   "metadata": {},
   "source": [
    "A Análise Exploratória de Dados (AED) é uma fase crucial no processo de compreender um conjunto de dados. Ela é uma abordagem investigativa, onde mergulhamos nos dados para revelar padrões, tendências e características ocultas. Durante a AED, buscamos entender a estrutura dos dados, identificar possíveis lacunas ou inconsistências, explorar relações entre variáveis e até mesmo desvendar possíveis anomalias.\n",
    "\n",
    "A AED nos permite formular perguntas relevantes, criar hipóteses e, posteriormente, orientar análises mais aprofundadas. Ela não apenas nos ajuda a identificar o que está acontecendo nos dados, mas também a entender o \"porquê\" por trás desses padrões. Através da exploração dos dados, podemos identificar oportunidades, desafios e áreas que requerem mais investigação. Isso é crucial para tomar decisões informadas, ajustar estratégias e extrair insights significativos. Em essência, a AED é uma jornada que nos conduz a descobertas valiosas, preparando o terreno para análises mais avançadas e decisões fundamentadas.\n",
    "\n",
    "Os principais pontos a serem abordados na AED incluem:\n",
    "\n",
    "- **Resumo Estatístico:** Calcular estatísticas descritivas para entender tendências centrais e dispersão dos dados.\n",
    "\n",
    "- **Agregação:** Agrupar dados por categorias e aplicar funções de agregação para analisar características específicas.\n",
    "\n",
    "- **Visualização:** Criar gráficos para representar visualmente os padrões e tendências nos dados.\n",
    "\n",
    "- **Extração de Insights:** Identificar insights preliminares que podem orientar análises mais aprofundadas."
   ]
  },
  {
   "cell_type": "markdown",
   "id": "0fcb135f-10b6-41a3-aec7-b93706f6dd32",
   "metadata": {
    "tags": []
   },
   "source": [
    "#### 3.1 Estatísticas Descritivas\n",
    "\n",
    "Estatísticas descritivas são ferramentas fundamentais para compreender os padrões e as características centrais de um conjunto de dados. Com o Pandas, você pode facilmente calcular várias estatísticas que oferecem insights valiosos."
   ]
  },
  {
   "cell_type": "code",
   "execution_count": 7,
   "id": "65c7a1a9-dd49-45d7-b1ba-37ebcd67c472",
   "metadata": {
    "tags": []
   },
   "outputs": [],
   "source": [
    "import pandas as pd\n",
    "\n",
    "data = {'Nome': ['Alice', 'Bob', 'Carol', 'David', 'Eve', 'Carl'],\n",
    "        'Idade': [25, 30, 22, 35, 28, 78],\n",
    "        'Salario': [50000, 60000, 45000, 70000, 55000, 10000]}\n",
    "\n",
    "df = pd.DataFrame(data)"
   ]
  },
  {
   "cell_type": "code",
   "execution_count": 8,
   "id": "79a7c999-1a48-49bf-a2b8-665782d8ab8c",
   "metadata": {
    "tags": []
   },
   "outputs": [
    {
     "name": "stdout",
     "output_type": "stream",
     "text": [
      "Média da Idade: 36.333333333333336\n"
     ]
    }
   ],
   "source": [
    "# Média das idades\n",
    "media_idade = df['Idade'].mean()\n",
    "\n",
    "print(\"Média da Idade:\", media_idade)"
   ]
  },
  {
   "cell_type": "code",
   "execution_count": 9,
   "id": "cc7197d1-d1c3-4f73-b42c-de525f6ad428",
   "metadata": {
    "tags": []
   },
   "outputs": [
    {
     "name": "stdout",
     "output_type": "stream",
     "text": [
      "Mediana da Idade: 29.0\n"
     ]
    }
   ],
   "source": [
    "# Mediana das idades\n",
    "mediana_idade = df['Idade'].median()\n",
    "\n",
    "print(\"Mediana da Idade:\", mediana_idade)"
   ]
  },
  {
   "cell_type": "code",
   "execution_count": 10,
   "id": "2b90659d-0125-45d0-812f-7aff4ad35104",
   "metadata": {
    "tags": []
   },
   "outputs": [
    {
     "name": "stdout",
     "output_type": "stream",
     "text": [
      "Desvio Padrão dos Salários: 20655.91117977289\n"
     ]
    }
   ],
   "source": [
    "# Desvio padrão dos salários\n",
    "desvio_padrao_salario = df['Salario'].std()\n",
    "\n",
    "print(\"Desvio Padrão dos Salários:\", desvio_padrao_salario)"
   ]
  },
  {
   "cell_type": "code",
   "execution_count": 11,
   "id": "faf9a892-4b67-4eb5-93bd-cca2e67b80dd",
   "metadata": {
    "tags": []
   },
   "outputs": [
    {
     "name": "stdout",
     "output_type": "stream",
     "text": [
      "Salário Mínimo: 10000\n",
      "Salário Máximo: 70000\n"
     ]
    }
   ],
   "source": [
    "# Valor mínimo e máximo dos salários\n",
    "salario_minimo = df['Salario'].min()\n",
    "salario_maximo = df['Salario'].max()\n",
    "\n",
    "print(\"Salário Mínimo:\", salario_minimo)\n",
    "print(\"Salário Máximo:\", salario_maximo)"
   ]
  },
  {
   "cell_type": "code",
   "execution_count": 12,
   "id": "f0480d6e-7cdd-4b1e-9c4d-061bcf97e266",
   "metadata": {
    "tags": []
   },
   "outputs": [
    {
     "name": "stdout",
     "output_type": "stream",
     "text": [
      "           Idade       Salario\n",
      "count   6.000000      6.000000\n",
      "mean   36.333333  48333.333333\n",
      "std    20.886998  20655.911180\n",
      "min    22.000000  10000.000000\n",
      "25%    25.750000  46250.000000\n",
      "50%    29.000000  52500.000000\n",
      "75%    33.750000  58750.000000\n",
      "max    78.000000  70000.000000\n"
     ]
    }
   ],
   "source": [
    "# Resumo estatístico das colunas numéricas\n",
    "resumo_estatistico = df.describe()\n",
    "\n",
    "print(resumo_estatistico)"
   ]
  },
  {
   "cell_type": "code",
   "execution_count": null,
   "id": "5d7ee0e4-7770-4b59-9541-3f64dda6279c",
   "metadata": {},
   "outputs": [],
   "source": []
  },
  {
   "cell_type": "code",
   "execution_count": null,
   "id": "48465a22-bbec-42f8-b73c-dc5eb3833ff4",
   "metadata": {},
   "outputs": [],
   "source": []
  },
  {
   "cell_type": "code",
   "execution_count": null,
   "id": "d3eecdee-5856-433f-8749-1bf691e5e717",
   "metadata": {},
   "outputs": [],
   "source": []
  },
  {
   "cell_type": "markdown",
   "id": "a935bf80-1267-43af-8df9-9efc6ac29043",
   "metadata": {},
   "source": [
    "#### 3.2 Agregação de Dados\n",
    "\n",
    "A agregação de dados é um processo fundamental na análise de dados, envolvendo a combinação, resumo e cálculo de informações estatísticas a partir de conjuntos de dados brutos. É uma maneira de extrair insights valiosos e informações significativas de grandes volumes de informações.\n",
    "\n",
    "O método `groupby()` é uma função poderosa no pandas que permite agrupar um DataFrame por uma ou mais colunas e aplicar operações agregadas nos grupos resultantes. Isso é especialmente útil quando você deseja analisar e resumir os dados com base em categorias específicas."
   ]
  },
  {
   "cell_type": "code",
   "execution_count": 15,
   "id": "d412da09-8330-4299-845f-9871c60d8a60",
   "metadata": {
    "tags": []
   },
   "outputs": [
    {
     "data": {
      "text/html": [
       "<div>\n",
       "<style scoped>\n",
       "    .dataframe tbody tr th:only-of-type {\n",
       "        vertical-align: middle;\n",
       "    }\n",
       "\n",
       "    .dataframe tbody tr th {\n",
       "        vertical-align: top;\n",
       "    }\n",
       "\n",
       "    .dataframe thead th {\n",
       "        text-align: right;\n",
       "    }\n",
       "</style>\n",
       "<table border=\"1\" class=\"dataframe\">\n",
       "  <thead>\n",
       "    <tr style=\"text-align: right;\">\n",
       "      <th></th>\n",
       "      <th>Nome</th>\n",
       "      <th>Idade</th>\n",
       "      <th>Salario</th>\n",
       "      <th>Departamento</th>\n",
       "    </tr>\n",
       "  </thead>\n",
       "  <tbody>\n",
       "    <tr>\n",
       "      <th>0</th>\n",
       "      <td>Alice</td>\n",
       "      <td>25</td>\n",
       "      <td>5000</td>\n",
       "      <td>Vendas</td>\n",
       "    </tr>\n",
       "    <tr>\n",
       "      <th>1</th>\n",
       "      <td>Bob</td>\n",
       "      <td>30</td>\n",
       "      <td>6000</td>\n",
       "      <td>TI</td>\n",
       "    </tr>\n",
       "    <tr>\n",
       "      <th>2</th>\n",
       "      <td>Carol</td>\n",
       "      <td>22</td>\n",
       "      <td>4500</td>\n",
       "      <td>Vendas</td>\n",
       "    </tr>\n",
       "    <tr>\n",
       "      <th>3</th>\n",
       "      <td>David</td>\n",
       "      <td>35</td>\n",
       "      <td>7000</td>\n",
       "      <td>RH</td>\n",
       "    </tr>\n",
       "    <tr>\n",
       "      <th>4</th>\n",
       "      <td>Eve</td>\n",
       "      <td>28</td>\n",
       "      <td>55000</td>\n",
       "      <td>TI</td>\n",
       "    </tr>\n",
       "    <tr>\n",
       "      <th>5</th>\n",
       "      <td>Bob</td>\n",
       "      <td>17</td>\n",
       "      <td>2130</td>\n",
       "      <td>Vendas</td>\n",
       "    </tr>\n",
       "    <tr>\n",
       "      <th>6</th>\n",
       "      <td>Davi</td>\n",
       "      <td>21</td>\n",
       "      <td>3000</td>\n",
       "      <td>RH</td>\n",
       "    </tr>\n",
       "    <tr>\n",
       "      <th>7</th>\n",
       "      <td>Carl</td>\n",
       "      <td>32</td>\n",
       "      <td>4500</td>\n",
       "      <td>TI</td>\n",
       "    </tr>\n",
       "    <tr>\n",
       "      <th>8</th>\n",
       "      <td>Raimundo</td>\n",
       "      <td>78</td>\n",
       "      <td>1500</td>\n",
       "      <td>TI</td>\n",
       "    </tr>\n",
       "  </tbody>\n",
       "</table>\n",
       "</div>"
      ],
      "text/plain": [
       "       Nome  Idade  Salario Departamento\n",
       "0     Alice     25     5000       Vendas\n",
       "1       Bob     30     6000           TI\n",
       "2     Carol     22     4500       Vendas\n",
       "3     David     35     7000           RH\n",
       "4       Eve     28    55000           TI\n",
       "5       Bob     17     2130       Vendas\n",
       "6      Davi     21     3000           RH\n",
       "7      Carl     32     4500           TI\n",
       "8  Raimundo     78     1500           TI"
      ]
     },
     "execution_count": 15,
     "metadata": {},
     "output_type": "execute_result"
    }
   ],
   "source": [
    "data = {'Nome': ['Alice', 'Bob', 'Carol', 'David', 'Eve', 'Bob', 'Davi', 'Carl', 'Raimundo'],\n",
    "        'Idade': [25, 30, 22, 35, 28, 17, 21, 32, 78],\n",
    "        'Salario': [5000, 6000, 4500, 7000, 55000, 2130, 3000, 4500, 1500],\n",
    "        'Departamento': ['Vendas', 'TI', 'Vendas', 'RH', 'TI', 'Vendas', 'RH', 'TI', 'TI']}\n",
    "\n",
    "df = pd.DataFrame(data)\n",
    "df"
   ]
  },
  {
   "cell_type": "code",
   "execution_count": 16,
   "id": "1cae0b3d-58cf-4a7f-be3b-43fad3f45ece",
   "metadata": {
    "tags": []
   },
   "outputs": [
    {
     "name": "stdout",
     "output_type": "stream",
     "text": [
      "Média dos Salários por Departamento:\n",
      "Departamento\n",
      "RH         5000.000000\n",
      "TI        16750.000000\n",
      "Vendas     3876.666667\n",
      "Name: Salario, dtype: float64\n"
     ]
    }
   ],
   "source": [
    "# Média dos salários por departamento\n",
    "media_salarios_por_departamento = df.groupby('Departamento')['Salario'].mean()\n",
    "\n",
    "print(\"Média dos Salários por Departamento:\")\n",
    "print(media_salarios_por_departamento)"
   ]
  },
  {
   "cell_type": "code",
   "execution_count": 17,
   "id": "61b639a1-7b58-4420-83d9-bc9b7482f43c",
   "metadata": {
    "tags": []
   },
   "outputs": [
    {
     "name": "stdout",
     "output_type": "stream",
     "text": [
      "Soma dos Salários por Departamento:\n",
      "Departamento\n",
      "RH        10000\n",
      "TI        67000\n",
      "Vendas    11630\n",
      "Name: Salario, dtype: int64\n"
     ]
    }
   ],
   "source": [
    "# Soma dos salários por departamento\n",
    "soma_salarios_por_departamento = df.groupby('Departamento')['Salario'].sum()\n",
    "\n",
    "print(\"Soma dos Salários por Departamento:\")\n",
    "print(soma_salarios_por_departamento)"
   ]
  },
  {
   "cell_type": "code",
   "execution_count": 18,
   "id": "5015d93b-4dc6-4ebe-8c70-3c96c66e42ae",
   "metadata": {
    "tags": []
   },
   "outputs": [
    {
     "name": "stdout",
     "output_type": "stream",
     "text": [
      "Contagem de Funcionários por Departamento:\n",
      "TI        4\n",
      "Vendas    3\n",
      "RH        2\n",
      "Name: Departamento, dtype: int64\n"
     ]
    }
   ],
   "source": [
    "# Contagem de funcionários por departamento\n",
    "contagem_por_departamento = df['Departamento'].value_counts()\n",
    "\n",
    "print(\"Contagem de Funcionários por Departamento:\")\n",
    "print(contagem_por_departamento)"
   ]
  },
  {
   "cell_type": "code",
   "execution_count": 19,
   "id": "bda5c20b-be60-4f80-9e5c-32a38b3f2352",
   "metadata": {
    "tags": []
   },
   "outputs": [
    {
     "name": "stdout",
     "output_type": "stream",
     "text": [
      "Estatísticas Descritivas por Departamento:\n",
      "             Idade                                                      \\\n",
      "             count       mean        std   min   25%   50%   75%   max   \n",
      "Departamento                                                             \n",
      "RH             2.0  28.000000   9.899495  21.0  24.5  28.0  31.5  35.0   \n",
      "TI             4.0  42.000000  24.055491  28.0  29.5  31.0  43.5  78.0   \n",
      "Vendas         3.0  21.333333   4.041452  17.0  19.5  22.0  23.5  25.0   \n",
      "\n",
      "             Salario                                                      \\\n",
      "               count          mean           std     min     25%     50%   \n",
      "Departamento                                                               \n",
      "RH               2.0   5000.000000   2828.427125  3000.0  4000.0  5000.0   \n",
      "TI               4.0  16750.000000  25568.535351  1500.0  3750.0  5250.0   \n",
      "Vendas           3.0   3876.666667   1533.177528  2130.0  3315.0  4500.0   \n",
      "\n",
      "                                \n",
      "                  75%      max  \n",
      "Departamento                    \n",
      "RH             6000.0   7000.0  \n",
      "TI            18250.0  55000.0  \n",
      "Vendas         4750.0   5000.0  \n"
     ]
    }
   ],
   "source": [
    "# Estatísticas descritivas por departamento\n",
    "estatisticas_por_departamento = df.groupby('Departamento').describe()\n",
    "\n",
    "print(\"Estatísticas Descritivas por Departamento:\")\n",
    "print(estatisticas_por_departamento)"
   ]
  },
  {
   "cell_type": "markdown",
   "id": "ecd711d8-a782-4011-851f-2ddfcb18eaf7",
   "metadata": {},
   "source": [
    "### **4. Integrações** "
   ]
  },
  {
   "cell_type": "markdown",
   "id": "978a00a6-af93-4d1a-ac34-eb9c95843a3a",
   "metadata": {},
   "source": [
    "A integração do Pandas com outras bibliotecas Python é um aspecto crucial na análise de dados, pois permite ampliar as capacidades do Pandas combinando-o com outras ferramentas poderosas. Isso permite criar fluxos de trabalho mais avançados e realizar análises mais complexas.\n",
    "\n",
    "A integração envolve a combinação do Pandas com bibliotecas como NumPy, Matplotlib, Seaborn, SciPy, Scikit-learn e mais. Cada uma dessas bibliotecas traz recursos específicos que podem ser aproveitados para ampliar a funcionalidade e a profundidade das análises.\n",
    "\n",
    "Essas integrações ampliam o poder analítico do Pandas e permite explorar dados de maneira mais aprofundada, utilizando técnicas avançadas. Ao aprender a integrar o Pandas com outras bibliotecas, você ganha habilidades para lidar com cenários mais complexos de análise de dados e amplia seu conjunto de ferramentas para solucionar problemas do mundo real."
   ]
  },
  {
   "cell_type": "code",
   "execution_count": 33,
   "id": "13e73a55-a604-46c8-85ad-c0cdc7124918",
   "metadata": {
    "tags": []
   },
   "outputs": [],
   "source": [
    "import pandas as pd\n",
    "import seaborn as sns\n",
    "import matplotlib.pyplot as plt\n",
    "\n",
    "# Criando o DataFrame\n",
    "data = {'Nome': ['Alice', 'Bob', 'Carol', 'David', 'Emily', 'Joana', 'Maria', 'Wanddin'],\n",
    "        'Idade': [28, 35, 22, 29, 31, 21, 21, 21],\n",
    "        'Salário': [5000, 6000, 4500, 5500, 5200, 2500, 2700, 2500],\n",
    "        'Departamento': ['Vendas', 'TI', 'Vendas', 'RH', 'TI', 'TI', 'TI', 'RH']}\n",
    "\n",
    "df = pd.DataFrame(data)"
   ]
  },
  {
   "cell_type": "code",
   "execution_count": 34,
   "id": "e2ec8235-b6e1-43ad-aff9-58eee7e21f35",
   "metadata": {
    "tags": []
   },
   "outputs": [
    {
     "data": {
      "image/png": "[encoded data removed]",
      "text/plain": [
       "<Figure size 640x480 with 1 Axes>"
      ]
     },
     "metadata": {},
     "output_type": "display_data"
    }
   ],
   "source": [
    "# Gráfico de dispersão entre Departamento e Salário\n",
    "sns.scatterplot(x='Departamento', y='Salário', data=df)\n",
    "plt.xlabel('Departamento')\n",
    "plt.ylabel('Salário')\n",
    "plt.title('Relação entre Departamento e Salário')\n",
    "plt.show()"
   ]
  },
  {
   "cell_type": "code",
   "execution_count": 22,
   "id": "52c1e7eb-1566-4c6e-bcd9-e553f13d9213",
   "metadata": {
    "tags": []
   },
   "outputs": [
    {
     "data": {
      "image/png": "[encoded data removed]",
      "text/plain": [
       "<Figure size 640x480 with 1 Axes>"
      ]
     },
     "metadata": {},
     "output_type": "display_data"
    }
   ],
   "source": [
    "# Gráfico de barras para Idade\n",
    "sns.barplot(x='Nome', y='Idade', data=df)\n",
    "plt.xlabel('Nome')\n",
    "plt.ylabel('Idade')\n",
    "plt.title('Idade por Nome')\n",
    "plt.xticks(rotation=45)\n",
    "plt.show()"
   ]
  },
  {
   "cell_type": "code",
   "execution_count": 35,
   "id": "1172602a-d89b-474e-8fae-5557826dbdde",
   "metadata": {
    "tags": []
   },
   "outputs": [
    {
     "data": {
      "image/png": "[encoded data removed]",
      "text/plain": [
       "<Figure size 640x480 with 1 Axes>"
      ]
     },
     "metadata": {},
     "output_type": "display_data"
    }
   ],
   "source": [
    "# Gráfico de boxplot para Salário\n",
    "sns.boxplot(x='Departamento', y='Salário', data=df)\n",
    "plt.xlabel('Departamento')\n",
    "plt.ylabel('Salário')\n",
    "plt.title('Distribuição de Salário por Departamento')\n",
    "plt.xticks(rotation=45)\n",
    "plt.show()"
   ]
  },
  {
   "cell_type": "code",
   "execution_count": null,
   "id": "93412057-f438-4ffd-8666-15445d6c1c4f",
   "metadata": {},
   "outputs": [],
   "source": []
  }
 ],
 "metadata": {
  "kernelspec": {
   "display_name": "Python 3 (ipykernel)",
   "language": "python",
   "name": "python3"
  },
  "language_info": {
   "codemirror_mode": {
    "name": "ipython",
    "version": 3
   },
   "file_extension": ".py",
   "mimetype": "text/x-python",
   "name": "python",
   "nbconvert_exporter": "python",
   "pygments_lexer": "ipython3",
   "version": "3.10.9"
  }
 },
 "nbformat": 4,
 "nbformat_minor": 5
}
