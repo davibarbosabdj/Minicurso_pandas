{
 "cells": [
  {
   "cell_type": "markdown",
   "id": "963dd615-35cf-4c27-8ed6-4ff49e8dc8ef",
   "metadata": {},
   "source": [
    "<img src='https://github.com/davibarbosabdj/Minicurso_pandas/blob/main/imagens/logo_pandas.png?raw=true' width='115px' style='float: right'>\n",
    "\n",
    "# <center><strong>Introdução a Biblioteca Pandas</strong></center>\n",
    "### <center>Manipulação e Exploração de dados</center>\n",
    "\n",
    "---"
   ]
  },
  {
   "cell_type": "markdown",
   "id": "5d99a7a3-5a0c-4583-9e2d-0bfa6f520423",
   "metadata": {},
   "source": [
    "#### **O que é o Pandas?**\n",
    "\n",
    "O pandas é uma biblioteca de código aberto para a linguagem de programação Python que é usada principalmente para análise e manipulação de dados. Ela fornece estruturas de dados e ferramentas de análise de alta performance e fáceis de usar, permitindo que os usuários manipulem dados tabulares e de séries temporais com facilidade. O pandas é amplamente utilizado em ciência de dados, finanças, análise de negócios e outras áreas onde a análise de dados é fundamental.\n",
    "<br>\n",
    "#### **Por que o Pandas é importante para Análise de Dados?**\n",
    "\n",
    "O pandas é importante para análise de dados porque oferece uma ampla gama de ferramentas e funcionalidades para manipulação e análise de dados de forma eficiente e eficaz. Com o pandas, os usuários podem importar e exportar dados de várias fontes, limpar e preparar dados para análise, manipular e transformar dados para uso em modelos de análise e visualizações de dados, e realizar análises estatísticas e de séries temporais.\n",
    "\n",
    "Além disso, o pandas oferece suporte para lidar com dados faltantes, integrar dados de várias fontes e visualizar os resultados da análise em gráficos e tabelas interativas. Como resultado, os usuários podem analisar grandes conjuntos de dados com mais rapidez e facilidade, permitindo que tomem decisões informadas com base em insights valiosos extraídos dos dados.\n",
    "\n",
    "Em resumo, o pandas é importante para análise de dados porque permite que os usuários trabalhem com dados de forma mais eficiente e eficaz, economizando tempo e aumentando a precisão dos resultados."
   ]
  },
  {
   "cell_type": "markdown",
   "id": "c986b72d-9916-4a16-b2ba-7bce3d3f988a",
   "metadata": {},
   "source": [
    "#### **Instalando e Importando o Pandas**\n",
    "\n",
    "Para instalar o pandas, você pode usar o pip, o gerenciador de pacotes padrão do Python. Basta abrir o terminal ou prompt de comandos e digitar o seguinte comando: \n",
    "\n",
    "~~~python\n",
    "pip install pandas\n",
    "~~~"
   ]
  },
  {
   "cell_type": "markdown",
   "id": "745ee8bf-eb6d-4d00-bd1a-0c5260b9c6f5",
   "metadata": {},
   "source": [
    "Após a instalação, você pode importar o pandas em seus scripts Python utilizando seguinte comando: "
   ]
  },
  {
   "cell_type": "code",
   "execution_count": 15,
   "id": "e2461881-e642-4e77-813f-6ce7da13a989",
   "metadata": {},
   "outputs": [],
   "source": [
    "import pandas as pd"
   ]
  },
  {
   "cell_type": "markdown",
   "id": "1794d9e1-dd14-49fd-b0b7-e6bc19410373",
   "metadata": {},
   "source": [
    "#### **1. Manipulação de Dados Básica**\n",
    "\n",
    "**Dataset: Customer Call List**\n",
    "\n",
    "A base de dados Customer Call List é uma valiosa fonte de informações sobre os clientes da empresa. Contendo colunas essenciais, como o ID do cliente, telefone, nome, endereço e outros campos relevantes, essa base de dados permite à empresa manter contato com seus clientes e fornecer um atendimento personalizado."
   ]
  },
  {
   "cell_type": "markdown",
   "id": "324cf401-7f5f-47fc-b591-95783e42ff6b",
   "metadata": {},
   "source": [
    "#### 1.1 Lendo a nossa base de dados\n",
    "\n",
    "Existem várias maneiras de importar um dataset no Python usando o Pandas, que é uma biblioteca popular para análise de dados."
   ]
  },
  {
   "cell_type": "code",
   "execution_count": 21,
   "id": "f96a6db4-a1ce-4185-b506-2da9b459b7d8",
   "metadata": {},
   "outputs": [],
   "source": [
    "#Leitura dos dados no formato csv"
   ]
  },
  {
   "cell_type": "code",
   "execution_count": null,
   "id": "3d2f7fc0",
   "metadata": {},
   "outputs": [],
   "source": [
    "#Leitura dos dados no formato excel"
   ]
  },
  {
   "cell_type": "code",
   "execution_count": null,
   "id": "e03b9be2",
   "metadata": {},
   "outputs": [],
   "source": [
    "#Leitura dos dados no formato json"
   ]
  },
  {
   "cell_type": "markdown",
   "id": "2e4f481a-6bc4-421f-b750-8c8865e9f26c",
   "metadata": {},
   "source": [
    "#### 1.2 Visualizando a nossa base de dados"
   ]
  },
  {
   "cell_type": "code",
   "execution_count": null,
   "id": "cf5a5c34-bdbe-4c54-9755-bb5fc9bfcee3",
   "metadata": {},
   "outputs": [],
   "source": [
    "#Visualizando as primeiras linhas do nosso dataframe - .head()"
   ]
  },
  {
   "cell_type": "code",
   "execution_count": null,
   "id": "e509cc42-1b99-464e-b078-e672f887bfb2",
   "metadata": {},
   "outputs": [],
   "source": [
    "#Visualizando as ultimas linhas do nosso dataframe - .tail()"
   ]
  },
  {
   "cell_type": "code",
   "execution_count": null,
   "id": "383c15d3-b7d2-4c85-9ad5-6811cf9e3c4d",
   "metadata": {},
   "outputs": [],
   "source": [
    "#Visualizando as informações gerais do nosso data frame - .info()"
   ]
  },
  {
   "cell_type": "code",
   "execution_count": null,
   "id": "3586fba8-b845-4ca5-825b-ee9b707b2a43",
   "metadata": {},
   "outputs": [],
   "source": [
    "#Retornando o nome das colunas do dataframe .columns"
   ]
  },
  {
   "cell_type": "markdown",
   "id": "f996a567-a270-409a-af63-b8c604d2aa50",
   "metadata": {},
   "source": [
    "#### 1.3 Manipulação das Colunas do Dataframe \n",
    "\n",
    "Podemos realizar diversas manipulações nas colunas de um dataframe utilizando as funcionalidades do Pandas."
   ]
  },
  {
   "cell_type": "code",
   "execution_count": null,
   "id": "93915b11-1fef-4c04-afd1-2d4bc97c4f8d",
   "metadata": {},
   "outputs": [],
   "source": [
    "#Renomear colunas - .rename()"
   ]
  },
  {
   "cell_type": "code",
   "execution_count": null,
   "id": "9b59f888-0ba9-43ba-8771-6b020ce4767d",
   "metadata": {},
   "outputs": [],
   "source": [
    "#Mudando a ordem das colunas - "
   ]
  },
  {
   "cell_type": "markdown",
   "id": "1a3a570a-53c9-4f7b-b338-1f9aa3d39164",
   "metadata": {},
   "source": [
    "Para criar uma nova coluna em um data frame, basta atribuirmos uma lista/series de valores a uma constante a uma nova chave do df.\n",
    "\n",
    "*Obs: A quantidade de valores da lista deve ser igual ao número de linhas/registros do df.*"
   ]
  },
  {
   "cell_type": "code",
   "execution_count": null,
   "id": "832e1fa4-d8fa-4312-a95a-c2d2be49b1ce",
   "metadata": {},
   "outputs": [],
   "source": [
    "#Criar novas colunas "
   ]
  },
  {
   "cell_type": "code",
   "execution_count": null,
   "id": "b32edfa7-1848-42f7-a0c2-0ec08a424a89",
   "metadata": {},
   "outputs": [],
   "source": [
    "#Deletar colunas - .drop() e del df[column]"
   ]
  },
  {
   "cell_type": "markdown",
   "id": "f1071219-cfd7-42b0-94b9-cbb155a346d5",
   "metadata": {},
   "source": [
    "#### 1.4 Series\n",
    "\n",
    "Uma Series é uma estrutura de dados unidimensional que contém um array de dados e um array correspondente de rótulos, chamado de índice. É uma estrutura de dados flexível e útil para várias operações de manipulação de dados e análise de dados, especialmente quando se trabalha com dados em colunas de um DataFrame."
   ]
  },
  {
   "cell_type": "code",
   "execution_count": null,
   "id": "5be1a9cf-7efd-465b-8be2-3e52a03dd448",
   "metadata": {},
   "outputs": [],
   "source": [
    "#Selecionando uma coluna inteira \n",
    "df[column]"
   ]
  },
  {
   "cell_type": "code",
   "execution_count": null,
   "id": "1d3e2fd0-0703-4466-b492-1d0c35df9803",
   "metadata": {},
   "outputs": [],
   "source": [
    "#Acessar valores - indice\n",
    "df[2]"
   ]
  },
  {
   "cell_type": "markdown",
   "id": "524cc854-7306-4df8-9e2e-449863bcdc2a",
   "metadata": {},
   "source": [
    "* **Filtragem de informações**"
   ]
  },
  {
   "cell_type": "code",
   "execution_count": null,
   "id": "8167ec08-c8ec-478b-b0d4-6fb76fcea436",
   "metadata": {},
   "outputs": [],
   "source": [
    "df[column] == 'condição'"
   ]
  },
  {
   "cell_type": "code",
   "execution_count": null,
   "id": "92fb4316-463e-42fe-b028-5cf15ffd710e",
   "metadata": {},
   "outputs": [],
   "source": [
    "df[column] > 'condição'"
   ]
  },
  {
   "cell_type": "code",
   "execution_count": null,
   "id": "420ccea1-449c-4f82-9b71-4a7c3d2cdde1",
   "metadata": {},
   "outputs": [],
   "source": [
    "df[column] < 'condição'"
   ]
  },
  {
   "cell_type": "markdown",
   "id": "24b36e0c-f69c-4115-8803-c19a49e600d2",
   "metadata": {},
   "source": [
    "* **Realizar operações matemáticas** "
   ]
  },
  {
   "cell_type": "code",
   "execution_count": null,
   "id": "dddf46c8-b710-47f7-9e9f-d3e867d5f5bd",
   "metadata": {},
   "outputs": [],
   "source": [
    "df[column] * 2"
   ]
  },
  {
   "cell_type": "markdown",
   "id": "d5ffa819-acdb-4743-9340-0f9b75df9597",
   "metadata": {},
   "source": [
    "* **Métodos Estatísticos** "
   ]
  },
  {
   "cell_type": "code",
   "execution_count": null,
   "id": "b901fd9d-3996-4503-83f1-0a7f15f8bb3b",
   "metadata": {},
   "outputs": [],
   "source": [
    "df[column].describe()"
   ]
  },
  {
   "cell_type": "code",
   "execution_count": null,
   "id": "df0d3571-c2d1-4053-8629-051fa56a58dd",
   "metadata": {},
   "outputs": [],
   "source": [
    "df[column].mean()"
   ]
  },
  {
   "cell_type": "code",
   "execution_count": null,
   "id": "341d3d11-47ff-4ff5-abab-888b2e680f55",
   "metadata": {},
   "outputs": [],
   "source": [
    "df[column].median()"
   ]
  },
  {
   "cell_type": "markdown",
   "id": "f5767bed-ae58-4f62-9a72-452be22b2e4e",
   "metadata": {},
   "source": [
    "#### 1.5 Selecionando os dados \n",
    "Existem várias maneiras de selecionar dados usando o pandas. Indexação, Condição, Colunas... "
   ]
  },
  {
   "cell_type": "markdown",
   "id": "19696c4f-f771-40e3-aecf-c5ca839259ac",
   "metadata": {},
   "source": [
    "##### Seleção por indexação - .loc[]\n",
    "\n",
    "```loc```: seleciona elementos do Dataframe, baseado em seus rótulos --> row-first, column-second\n",
    "\n",
    "Este método é primariamente baseado nas labels da colunas, porém podemos utilizar com um array booleano também.\n",
    "\n",
    "Funcionamento do método:\n",
    "\n",
    "O método funciona desta maneira: ```df.loc[<linhas>, <colunas>]```"
   ]
  },
  {
   "cell_type": "code",
   "execution_count": 1,
   "id": "bdb166a4-f1f1-4995-a660-7080bb6f20ad",
   "metadata": {},
   "outputs": [],
   "source": [
    "#Seleção por indexação -.loc[]"
   ]
  },
  {
   "cell_type": "markdown",
   "id": "a4b81550-8290-4e41-813c-7d6f75de2202",
   "metadata": {},
   "source": [
    "##### Seleção por indexação - .iloc[]\n",
    "\n",
    "```iloc```: seleciona elementos do dataframe, baseado em seu **índice(número)** --> row-first, column-second"
   ]
  },
  {
   "cell_type": "code",
   "execution_count": 2,
   "id": "862913be-c423-471a-8ba5-00273b971dbd",
   "metadata": {},
   "outputs": [],
   "source": [
    "#Seleção por indexação -.iloc[]"
   ]
  },
  {
   "cell_type": "code",
   "execution_count": null,
   "id": "ac679e4b-50dd-44bf-8adc-be847f08056a",
   "metadata": {},
   "outputs": [],
   "source": []
  },
  {
   "cell_type": "markdown",
   "id": "1a057189-a680-4f1f-b3db-c3e4a2dcf16f",
   "metadata": {},
   "source": [
    "<img src='imagens/manipulacao.png' width='115px' style='float: right'>\n",
    "\n",
    "# <center><strong>Manipulação de Dados com Pandas</strong></center>\n",
    "### <center></center>\n",
    "\n",
    "---"
   ]
  },
  {
   "cell_type": "code",
   "execution_count": null,
   "id": "09afffaf-dadb-4601-b472-78bc66e71f42",
   "metadata": {},
   "outputs": [],
   "source": []
  }
 ],
 "metadata": {
  "kernelspec": {
   "display_name": "Python 3 (ipykernel)",
   "language": "python",
   "name": "python3"
  },
  "language_info": {
   "codemirror_mode": {
    "name": "ipython",
    "version": 3
   },
   "file_extension": ".py",
   "mimetype": "text/x-python",
   "name": "python",
   "nbconvert_exporter": "python",
   "pygments_lexer": "ipython3",
   "version": "3.10.9"
  }
 },
 "nbformat": 4,
 "nbformat_minor": 5
}
